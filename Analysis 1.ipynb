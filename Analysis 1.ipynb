{
 "cells": [
  {
   "cell_type": "code",
   "execution_count": 1,
   "id": "5393b1ee",
   "metadata": {},
   "outputs": [],
   "source": [
    "import pandas as pd\n",
    "import numpy as np\n",
    "from scipy import stats as st\n",
    "import matplotlib.pyplot as plt\n",
    "import seaborn as sns\n",
    "import re"
   ]
  },
  {
   "cell_type": "code",
   "execution_count": 2,
   "id": "5cc9ddd4",
   "metadata": {},
   "outputs": [],
   "source": [
    "dd = pd.read_csv(r\"C:\\Users\\hi\\Desktop\\Innomatics\\Sample Docs for practice\\autos_stats.csv\", encoding = 'unicode_escape')"
   ]
  },
  {
   "cell_type": "markdown",
   "id": "2f345b26",
   "metadata": {},
   "source": [
    "## 1) Perform general Data analysis"
   ]
  },
  {
   "cell_type": "code",
   "execution_count": 3,
   "id": "12f75d8b",
   "metadata": {},
   "outputs": [
    {
     "data": {
      "text/html": [
       "<div>\n",
       "<style scoped>\n",
       "    .dataframe tbody tr th:only-of-type {\n",
       "        vertical-align: middle;\n",
       "    }\n",
       "\n",
       "    .dataframe tbody tr th {\n",
       "        vertical-align: top;\n",
       "    }\n",
       "\n",
       "    .dataframe thead th {\n",
       "        text-align: right;\n",
       "    }\n",
       "</style>\n",
       "<table border=\"1\" class=\"dataframe\">\n",
       "  <thead>\n",
       "    <tr style=\"text-align: right;\">\n",
       "      <th></th>\n",
       "      <th>dateCrawled</th>\n",
       "      <th>name</th>\n",
       "      <th>seller</th>\n",
       "      <th>offerType</th>\n",
       "      <th>price</th>\n",
       "      <th>abtest</th>\n",
       "      <th>vehicleType</th>\n",
       "      <th>yearOfRegistration</th>\n",
       "      <th>gearbox</th>\n",
       "      <th>powerPS</th>\n",
       "      <th>model</th>\n",
       "      <th>kilometer</th>\n",
       "      <th>monthOfRegistration</th>\n",
       "      <th>fuelType</th>\n",
       "      <th>brand</th>\n",
       "      <th>notRepairedDamage</th>\n",
       "      <th>dateCreated</th>\n",
       "      <th>nrOfPictures</th>\n",
       "      <th>postalCode</th>\n",
       "      <th>lastSeen</th>\n",
       "    </tr>\n",
       "  </thead>\n",
       "  <tbody>\n",
       "    <tr>\n",
       "      <th>0</th>\n",
       "      <td>2016-03-24 11:52:17</td>\n",
       "      <td>Golf_3_1.6</td>\n",
       "      <td>privat</td>\n",
       "      <td>Angebot</td>\n",
       "      <td>480</td>\n",
       "      <td>test</td>\n",
       "      <td>NaN</td>\n",
       "      <td>1993</td>\n",
       "      <td>manuell</td>\n",
       "      <td>0</td>\n",
       "      <td>golf</td>\n",
       "      <td>150000</td>\n",
       "      <td>0</td>\n",
       "      <td>benzin</td>\n",
       "      <td>volkswagen</td>\n",
       "      <td>NaN</td>\n",
       "      <td>2016-03-24 00:00:00</td>\n",
       "      <td>0</td>\n",
       "      <td>70435</td>\n",
       "      <td>2016-04-07 03:16:57</td>\n",
       "    </tr>\n",
       "    <tr>\n",
       "      <th>1</th>\n",
       "      <td>2016-03-24 10:58:45</td>\n",
       "      <td>A5_Sportback_2.7_Tdi</td>\n",
       "      <td>privat</td>\n",
       "      <td>Angebot</td>\n",
       "      <td>18300</td>\n",
       "      <td>test</td>\n",
       "      <td>coupe</td>\n",
       "      <td>2011</td>\n",
       "      <td>manuell</td>\n",
       "      <td>190</td>\n",
       "      <td>NaN</td>\n",
       "      <td>125000</td>\n",
       "      <td>5</td>\n",
       "      <td>diesel</td>\n",
       "      <td>audi</td>\n",
       "      <td>ja</td>\n",
       "      <td>2016-03-24 00:00:00</td>\n",
       "      <td>0</td>\n",
       "      <td>66954</td>\n",
       "      <td>2016-04-07 01:46:50</td>\n",
       "    </tr>\n",
       "    <tr>\n",
       "      <th>2</th>\n",
       "      <td>2016-03-14 12:52:21</td>\n",
       "      <td>Jeep_Grand_Cherokee_\"Overland\"</td>\n",
       "      <td>privat</td>\n",
       "      <td>Angebot</td>\n",
       "      <td>9800</td>\n",
       "      <td>test</td>\n",
       "      <td>suv</td>\n",
       "      <td>2004</td>\n",
       "      <td>automatik</td>\n",
       "      <td>163</td>\n",
       "      <td>grand</td>\n",
       "      <td>125000</td>\n",
       "      <td>8</td>\n",
       "      <td>diesel</td>\n",
       "      <td>jeep</td>\n",
       "      <td>NaN</td>\n",
       "      <td>2016-03-14 00:00:00</td>\n",
       "      <td>0</td>\n",
       "      <td>90480</td>\n",
       "      <td>2016-04-05 12:47:46</td>\n",
       "    </tr>\n",
       "    <tr>\n",
       "      <th>3</th>\n",
       "      <td>2016-03-17 16:54:04</td>\n",
       "      <td>GOLF_4_1_4__3TÜRER</td>\n",
       "      <td>privat</td>\n",
       "      <td>Angebot</td>\n",
       "      <td>1500</td>\n",
       "      <td>test</td>\n",
       "      <td>kleinwagen</td>\n",
       "      <td>2001</td>\n",
       "      <td>manuell</td>\n",
       "      <td>75</td>\n",
       "      <td>golf</td>\n",
       "      <td>150000</td>\n",
       "      <td>6</td>\n",
       "      <td>benzin</td>\n",
       "      <td>volkswagen</td>\n",
       "      <td>nein</td>\n",
       "      <td>2016-03-17 00:00:00</td>\n",
       "      <td>0</td>\n",
       "      <td>91074</td>\n",
       "      <td>2016-03-17 17:40:17</td>\n",
       "    </tr>\n",
       "    <tr>\n",
       "      <th>4</th>\n",
       "      <td>2016-03-31 17:25:20</td>\n",
       "      <td>Skoda_Fabia_1.4_TDI_PD_Classic</td>\n",
       "      <td>privat</td>\n",
       "      <td>Angebot</td>\n",
       "      <td>3600</td>\n",
       "      <td>test</td>\n",
       "      <td>kleinwagen</td>\n",
       "      <td>2008</td>\n",
       "      <td>manuell</td>\n",
       "      <td>69</td>\n",
       "      <td>fabia</td>\n",
       "      <td>90000</td>\n",
       "      <td>7</td>\n",
       "      <td>diesel</td>\n",
       "      <td>skoda</td>\n",
       "      <td>nein</td>\n",
       "      <td>2016-03-31 00:00:00</td>\n",
       "      <td>0</td>\n",
       "      <td>60437</td>\n",
       "      <td>2016-04-06 10:17:21</td>\n",
       "    </tr>\n",
       "  </tbody>\n",
       "</table>\n",
       "</div>"
      ],
      "text/plain": [
       "           dateCrawled                            name  seller offerType  \\\n",
       "0  2016-03-24 11:52:17                      Golf_3_1.6  privat   Angebot   \n",
       "1  2016-03-24 10:58:45            A5_Sportback_2.7_Tdi  privat   Angebot   \n",
       "2  2016-03-14 12:52:21  Jeep_Grand_Cherokee_\"Overland\"  privat   Angebot   \n",
       "3  2016-03-17 16:54:04              GOLF_4_1_4__3TÜRER  privat   Angebot   \n",
       "4  2016-03-31 17:25:20  Skoda_Fabia_1.4_TDI_PD_Classic  privat   Angebot   \n",
       "\n",
       "   price abtest vehicleType  yearOfRegistration    gearbox  powerPS  model  \\\n",
       "0    480   test         NaN                1993    manuell        0   golf   \n",
       "1  18300   test       coupe                2011    manuell      190    NaN   \n",
       "2   9800   test         suv                2004  automatik      163  grand   \n",
       "3   1500   test  kleinwagen                2001    manuell       75   golf   \n",
       "4   3600   test  kleinwagen                2008    manuell       69  fabia   \n",
       "\n",
       "   kilometer  monthOfRegistration fuelType       brand notRepairedDamage  \\\n",
       "0     150000                    0   benzin  volkswagen               NaN   \n",
       "1     125000                    5   diesel        audi                ja   \n",
       "2     125000                    8   diesel        jeep               NaN   \n",
       "3     150000                    6   benzin  volkswagen              nein   \n",
       "4      90000                    7   diesel       skoda              nein   \n",
       "\n",
       "           dateCreated  nrOfPictures  postalCode             lastSeen  \n",
       "0  2016-03-24 00:00:00             0       70435  2016-04-07 03:16:57  \n",
       "1  2016-03-24 00:00:00             0       66954  2016-04-07 01:46:50  \n",
       "2  2016-03-14 00:00:00             0       90480  2016-04-05 12:47:46  \n",
       "3  2016-03-17 00:00:00             0       91074  2016-03-17 17:40:17  \n",
       "4  2016-03-31 00:00:00             0       60437  2016-04-06 10:17:21  "
      ]
     },
     "execution_count": 3,
     "metadata": {},
     "output_type": "execute_result"
    }
   ],
   "source": [
    "dd.head()"
   ]
  },
  {
   "cell_type": "code",
   "execution_count": 4,
   "id": "dea0b3e0",
   "metadata": {},
   "outputs": [
    {
     "name": "stdout",
     "output_type": "stream",
     "text": [
      "<class 'pandas.core.frame.DataFrame'>\n",
      "RangeIndex: 371528 entries, 0 to 371527\n",
      "Data columns (total 20 columns):\n",
      " #   Column               Non-Null Count   Dtype \n",
      "---  ------               --------------   ----- \n",
      " 0   dateCrawled          371528 non-null  object\n",
      " 1   name                 371528 non-null  object\n",
      " 2   seller               371528 non-null  object\n",
      " 3   offerType            371528 non-null  object\n",
      " 4   price                371528 non-null  int64 \n",
      " 5   abtest               371528 non-null  object\n",
      " 6   vehicleType          333659 non-null  object\n",
      " 7   yearOfRegistration   371528 non-null  int64 \n",
      " 8   gearbox              351319 non-null  object\n",
      " 9   powerPS              371528 non-null  int64 \n",
      " 10  model                351044 non-null  object\n",
      " 11  kilometer            371528 non-null  int64 \n",
      " 12  monthOfRegistration  371528 non-null  int64 \n",
      " 13  fuelType             338142 non-null  object\n",
      " 14  brand                371528 non-null  object\n",
      " 15  notRepairedDamage    299468 non-null  object\n",
      " 16  dateCreated          371528 non-null  object\n",
      " 17  nrOfPictures         371528 non-null  int64 \n",
      " 18  postalCode           371528 non-null  int64 \n",
      " 19  lastSeen             371528 non-null  object\n",
      "dtypes: int64(7), object(13)\n",
      "memory usage: 56.7+ MB\n"
     ]
    }
   ],
   "source": [
    "dd.info()          ### Full Information of the Data Set"
   ]
  },
  {
   "cell_type": "markdown",
   "id": "e29ba1a7",
   "metadata": {},
   "source": [
    "#### Duplicates"
   ]
  },
  {
   "cell_type": "code",
   "execution_count": 5,
   "id": "0cced377",
   "metadata": {},
   "outputs": [
    {
     "data": {
      "text/html": [
       "<div>\n",
       "<style scoped>\n",
       "    .dataframe tbody tr th:only-of-type {\n",
       "        vertical-align: middle;\n",
       "    }\n",
       "\n",
       "    .dataframe tbody tr th {\n",
       "        vertical-align: top;\n",
       "    }\n",
       "\n",
       "    .dataframe thead th {\n",
       "        text-align: right;\n",
       "    }\n",
       "</style>\n",
       "<table border=\"1\" class=\"dataframe\">\n",
       "  <thead>\n",
       "    <tr style=\"text-align: right;\">\n",
       "      <th></th>\n",
       "      <th>dateCrawled</th>\n",
       "      <th>name</th>\n",
       "      <th>seller</th>\n",
       "      <th>offerType</th>\n",
       "      <th>price</th>\n",
       "      <th>abtest</th>\n",
       "      <th>vehicleType</th>\n",
       "      <th>yearOfRegistration</th>\n",
       "      <th>gearbox</th>\n",
       "      <th>powerPS</th>\n",
       "      <th>model</th>\n",
       "      <th>kilometer</th>\n",
       "      <th>monthOfRegistration</th>\n",
       "      <th>fuelType</th>\n",
       "      <th>brand</th>\n",
       "      <th>notRepairedDamage</th>\n",
       "      <th>dateCreated</th>\n",
       "      <th>nrOfPictures</th>\n",
       "      <th>postalCode</th>\n",
       "      <th>lastSeen</th>\n",
       "    </tr>\n",
       "  </thead>\n",
       "  <tbody>\n",
       "    <tr>\n",
       "      <th>179448</th>\n",
       "      <td>2016-03-08 18:42:48</td>\n",
       "      <td>Mercedes_Benz_CLK_Coupe_230_Kompressor_Sport</td>\n",
       "      <td>privat</td>\n",
       "      <td>Angebot</td>\n",
       "      <td>1799</td>\n",
       "      <td>test</td>\n",
       "      <td>coupe</td>\n",
       "      <td>1999</td>\n",
       "      <td>automatik</td>\n",
       "      <td>193</td>\n",
       "      <td>clk</td>\n",
       "      <td>20000</td>\n",
       "      <td>7</td>\n",
       "      <td>benzin</td>\n",
       "      <td>mercedes_benz</td>\n",
       "      <td>nein</td>\n",
       "      <td>2016-03-08 00:00:00</td>\n",
       "      <td>0</td>\n",
       "      <td>89518</td>\n",
       "      <td>2016-03-09 09:46:57</td>\n",
       "    </tr>\n",
       "    <tr>\n",
       "      <th>242556</th>\n",
       "      <td>2016-03-28 00:56:10</td>\n",
       "      <td>Suzuki_Ignis</td>\n",
       "      <td>privat</td>\n",
       "      <td>Angebot</td>\n",
       "      <td>1000</td>\n",
       "      <td>control</td>\n",
       "      <td>kleinwagen</td>\n",
       "      <td>2002</td>\n",
       "      <td>manuell</td>\n",
       "      <td>83</td>\n",
       "      <td>andere</td>\n",
       "      <td>150000</td>\n",
       "      <td>1</td>\n",
       "      <td>benzin</td>\n",
       "      <td>suzuki</td>\n",
       "      <td>nein</td>\n",
       "      <td>2016-03-28 00:00:00</td>\n",
       "      <td>0</td>\n",
       "      <td>66589</td>\n",
       "      <td>2016-03-28 08:46:21</td>\n",
       "    </tr>\n",
       "    <tr>\n",
       "      <th>270719</th>\n",
       "      <td>2016-04-03 09:01:15</td>\n",
       "      <td>Mercedes_Benz_CLK_320_W209</td>\n",
       "      <td>privat</td>\n",
       "      <td>Angebot</td>\n",
       "      <td>4699</td>\n",
       "      <td>test</td>\n",
       "      <td>coupe</td>\n",
       "      <td>2003</td>\n",
       "      <td>automatik</td>\n",
       "      <td>218</td>\n",
       "      <td>clk</td>\n",
       "      <td>125000</td>\n",
       "      <td>6</td>\n",
       "      <td>benzin</td>\n",
       "      <td>mercedes_benz</td>\n",
       "      <td>ja</td>\n",
       "      <td>2016-04-03 00:00:00</td>\n",
       "      <td>0</td>\n",
       "      <td>75196</td>\n",
       "      <td>2016-04-07 09:44:54</td>\n",
       "    </tr>\n",
       "    <tr>\n",
       "      <th>341474</th>\n",
       "      <td>2016-03-18 18:46:15</td>\n",
       "      <td>Volkswagen_Passat_Variant_1.9_TDI_Highline</td>\n",
       "      <td>privat</td>\n",
       "      <td>Angebot</td>\n",
       "      <td>1999</td>\n",
       "      <td>control</td>\n",
       "      <td>kombi</td>\n",
       "      <td>2001</td>\n",
       "      <td>manuell</td>\n",
       "      <td>131</td>\n",
       "      <td>passat</td>\n",
       "      <td>150000</td>\n",
       "      <td>7</td>\n",
       "      <td>diesel</td>\n",
       "      <td>volkswagen</td>\n",
       "      <td>nein</td>\n",
       "      <td>2016-03-18 00:00:00</td>\n",
       "      <td>0</td>\n",
       "      <td>36391</td>\n",
       "      <td>2016-03-18 18:46:15</td>\n",
       "    </tr>\n",
       "  </tbody>\n",
       "</table>\n",
       "</div>"
      ],
      "text/plain": [
       "                dateCrawled                                          name  \\\n",
       "179448  2016-03-08 18:42:48  Mercedes_Benz_CLK_Coupe_230_Kompressor_Sport   \n",
       "242556  2016-03-28 00:56:10                                  Suzuki_Ignis   \n",
       "270719  2016-04-03 09:01:15                    Mercedes_Benz_CLK_320_W209   \n",
       "341474  2016-03-18 18:46:15    Volkswagen_Passat_Variant_1.9_TDI_Highline   \n",
       "\n",
       "        seller offerType  price   abtest vehicleType  yearOfRegistration  \\\n",
       "179448  privat   Angebot   1799     test       coupe                1999   \n",
       "242556  privat   Angebot   1000  control  kleinwagen                2002   \n",
       "270719  privat   Angebot   4699     test       coupe                2003   \n",
       "341474  privat   Angebot   1999  control       kombi                2001   \n",
       "\n",
       "          gearbox  powerPS   model  kilometer  monthOfRegistration fuelType  \\\n",
       "179448  automatik      193     clk      20000                    7   benzin   \n",
       "242556    manuell       83  andere     150000                    1   benzin   \n",
       "270719  automatik      218     clk     125000                    6   benzin   \n",
       "341474    manuell      131  passat     150000                    7   diesel   \n",
       "\n",
       "                brand notRepairedDamage          dateCreated  nrOfPictures  \\\n",
       "179448  mercedes_benz              nein  2016-03-08 00:00:00             0   \n",
       "242556         suzuki              nein  2016-03-28 00:00:00             0   \n",
       "270719  mercedes_benz                ja  2016-04-03 00:00:00             0   \n",
       "341474     volkswagen              nein  2016-03-18 00:00:00             0   \n",
       "\n",
       "        postalCode             lastSeen  \n",
       "179448       89518  2016-03-09 09:46:57  \n",
       "242556       66589  2016-03-28 08:46:21  \n",
       "270719       75196  2016-04-07 09:44:54  \n",
       "341474       36391  2016-03-18 18:46:15  "
      ]
     },
     "execution_count": 5,
     "metadata": {},
     "output_type": "execute_result"
    }
   ],
   "source": [
    "dd[dd.duplicated()]          "
   ]
  },
  {
   "cell_type": "code",
   "execution_count": 6,
   "id": "a39e6fb3",
   "metadata": {},
   "outputs": [],
   "source": [
    "dd.drop_duplicates(inplace = True)      ## Dropping Dulicates"
   ]
  },
  {
   "cell_type": "code",
   "execution_count": 7,
   "id": "10d3275e",
   "metadata": {},
   "outputs": [
    {
     "data": {
      "text/html": [
       "<div>\n",
       "<style scoped>\n",
       "    .dataframe tbody tr th:only-of-type {\n",
       "        vertical-align: middle;\n",
       "    }\n",
       "\n",
       "    .dataframe tbody tr th {\n",
       "        vertical-align: top;\n",
       "    }\n",
       "\n",
       "    .dataframe thead th {\n",
       "        text-align: right;\n",
       "    }\n",
       "</style>\n",
       "<table border=\"1\" class=\"dataframe\">\n",
       "  <thead>\n",
       "    <tr style=\"text-align: right;\">\n",
       "      <th></th>\n",
       "      <th>dateCrawled</th>\n",
       "      <th>name</th>\n",
       "      <th>seller</th>\n",
       "      <th>offerType</th>\n",
       "      <th>price</th>\n",
       "      <th>abtest</th>\n",
       "      <th>vehicleType</th>\n",
       "      <th>yearOfRegistration</th>\n",
       "      <th>gearbox</th>\n",
       "      <th>powerPS</th>\n",
       "      <th>model</th>\n",
       "      <th>kilometer</th>\n",
       "      <th>monthOfRegistration</th>\n",
       "      <th>fuelType</th>\n",
       "      <th>brand</th>\n",
       "      <th>notRepairedDamage</th>\n",
       "      <th>dateCreated</th>\n",
       "      <th>nrOfPictures</th>\n",
       "      <th>postalCode</th>\n",
       "      <th>lastSeen</th>\n",
       "    </tr>\n",
       "  </thead>\n",
       "  <tbody>\n",
       "  </tbody>\n",
       "</table>\n",
       "</div>"
      ],
      "text/plain": [
       "Empty DataFrame\n",
       "Columns: [dateCrawled, name, seller, offerType, price, abtest, vehicleType, yearOfRegistration, gearbox, powerPS, model, kilometer, monthOfRegistration, fuelType, brand, notRepairedDamage, dateCreated, nrOfPictures, postalCode, lastSeen]\n",
       "Index: []"
      ]
     },
     "execution_count": 7,
     "metadata": {},
     "output_type": "execute_result"
    }
   ],
   "source": [
    "dd[dd.duplicated()]"
   ]
  },
  {
   "cell_type": "markdown",
   "id": "cb6172b4",
   "metadata": {},
   "source": [
    "#### Missing Values"
   ]
  },
  {
   "cell_type": "code",
   "execution_count": 8,
   "id": "e79a2a2a",
   "metadata": {},
   "outputs": [
    {
     "data": {
      "text/plain": [
       "dateCrawled                0\n",
       "name                       0\n",
       "seller                     0\n",
       "offerType                  0\n",
       "price                      0\n",
       "abtest                     0\n",
       "vehicleType            37869\n",
       "yearOfRegistration         0\n",
       "gearbox                20209\n",
       "powerPS                    0\n",
       "model                  20484\n",
       "kilometer                  0\n",
       "monthOfRegistration        0\n",
       "fuelType               33386\n",
       "brand                      0\n",
       "notRepairedDamage      72060\n",
       "dateCreated                0\n",
       "nrOfPictures               0\n",
       "postalCode                 0\n",
       "lastSeen                   0\n",
       "dtype: int64"
      ]
     },
     "execution_count": 8,
     "metadata": {},
     "output_type": "execute_result"
    }
   ],
   "source": [
    "dd.isna().sum()         ## Identifying Missing values"
   ]
  },
  {
   "cell_type": "code",
   "execution_count": 9,
   "id": "b7d64044",
   "metadata": {},
   "outputs": [],
   "source": [
    "dd.drop(columns = 'notRepairedDamage', axis = 1, inplace = True )"
   ]
  },
  {
   "cell_type": "code",
   "execution_count": 10,
   "id": "ad6d93f2",
   "metadata": {},
   "outputs": [],
   "source": [
    "dd.dropna(axis = 0, inplace = True)"
   ]
  },
  {
   "cell_type": "code",
   "execution_count": 11,
   "id": "6c26b2cd",
   "metadata": {},
   "outputs": [
    {
     "data": {
      "text/plain": [
       "dateCrawled            0\n",
       "name                   0\n",
       "seller                 0\n",
       "offerType              0\n",
       "price                  0\n",
       "abtest                 0\n",
       "vehicleType            0\n",
       "yearOfRegistration     0\n",
       "gearbox                0\n",
       "powerPS                0\n",
       "model                  0\n",
       "kilometer              0\n",
       "monthOfRegistration    0\n",
       "fuelType               0\n",
       "brand                  0\n",
       "dateCreated            0\n",
       "nrOfPictures           0\n",
       "postalCode             0\n",
       "lastSeen               0\n",
       "dtype: int64"
      ]
     },
     "execution_count": 11,
     "metadata": {},
     "output_type": "execute_result"
    }
   ],
   "source": [
    "dd.isna().sum()"
   ]
  },
  {
   "cell_type": "code",
   "execution_count": 12,
   "id": "b6be73e5",
   "metadata": {},
   "outputs": [
    {
     "name": "stdout",
     "output_type": "stream",
     "text": [
      "dateCrawled: ['2016-03-14 12:52:21' '2016-03-17 16:54:04' '2016-03-31 17:25:20' ...\n",
      " '2016-03-19 18:57:12' '2016-03-20 19:41:08' '2016-03-07 19:39:19']\n",
      "\n",
      "name: ['Jeep_Grand_Cherokee_\"Overland\"' 'GOLF_4_1_4__3TÜRER'\n",
      " 'Skoda_Fabia_1.4_TDI_PD_Classic' ...\n",
      " 'Smart_smart_leistungssteigerung_100ps' 'VW_Golf_Kombi_1_9l_TDI'\n",
      " 'BMW_M135i_vollausgestattet_NP_52.720____Euro']\n",
      "\n",
      "seller: ['privat' 'gewerblich']\n",
      "\n",
      "offerType: ['Angebot' 'Gesuch']\n",
      "\n",
      "price: [ 9800  1500  3600 ...  1559 10985 14989]\n",
      "\n",
      "abtest: ['test' 'control']\n",
      "\n",
      "vehicleType: ['suv' 'kleinwagen' 'limousine' 'cabrio' 'bus' 'kombi' 'coupe' 'andere']\n",
      "\n",
      "yearOfRegistration: [2004 2001 2008 1995 1980 2014 2005 2011 2007 2009 2002 1997 1990 1981\n",
      " 2003 1984 2006 1999 1998 2012 2010 2000 1992 1993 2013 1994 1991 1996\n",
      " 1989 2015 1968 1982 1983 1959 1973 1969 1971 1987 1988 1967 2016 1986\n",
      " 1985 1965 1945 1974 1979 1955 1978 1976 1972 1977 1961 1966 1975 1970\n",
      " 1937 1963 1936 1954 1962 1960 1964 1951 1910 1953 1957 1958 1956 2017\n",
      " 1941 1950 1948 1932 1952 1927 1931 2018 1949 1942 1935 1923 1930 1943\n",
      " 1934 1938 1919 1939 1929 1928 1933 1947]\n",
      "\n",
      "gearbox: ['automatik' 'manuell']\n",
      "\n",
      "powerPS: [  163    75    69   102   109    50   125   105   140   115   190   136\n",
      "   160   231   118   193    99    60   113   218   122   129    70    95\n",
      "    61   177   170   143     0   306   101   232   156    80    82   204\n",
      "   155   150   185    87   180    86   131   303   224   235   200   178\n",
      "   265    77   110   120    54   286   116    90   184    88   194    64\n",
      "   305   197   179   250   313    45    98    41   130   114   211    56\n",
      "   326   201   213   107   174   100   220    73   192    66    74    58\n",
      "    52   510   147    71    97    65   239   295    68   203   144   300\n",
      "   103    85   245   258   292   320    63    81   148   354    44    83\n",
      "   145   280   260   457   104   409   188   333   117   141    55   132\n",
      "   165   234   158    39   272    92    51   135   230    53   435    84\n",
      "   209    43   146    67   106   276   344   349   299    72   237   111\n",
      "   279    23   138   310   256   175    96   226   126   301   166   334\n",
      "   128   133   124    33   219   241   167   182   196   238   277  1398\n",
      "   228    48   139   240    79   243   252   340   121   289   222   315\n",
      "   198   284   450   233   387   347   172   137    94   212   476   314\n",
      "    30   173   370   290   207   385   205   171    78    91    89   186\n",
      "   108    76   420   953    93   142   199   112   152    57    59   367\n",
      "   298   208   210   408   275    46  1001   225   127   400    26   176\n",
      "   514   161    40   603   307    35   268   206   771   355   487   416\n",
      "   273   507   223   255   151   123   154   149  7515   500   620   266\n",
      "   345   480   360    34     2   242   162  1753   329   285   396   483\n",
      "   330   247   164   168 10317    47   215    18    62   325    37   432\n",
      "   328   183   254   134    15   321   430   952   169   119   388   426\n",
      "   249   271   343   462   364   379   449   373   264    22   157    42\n",
      "   195   309   381   440   401   189  2729    21   587   181  1240   521\n",
      "     1  1900   374    29   382    38  1993   270    14   216   504   267\n",
      "   331   363   261   253 10520   549   376   377   227   421   311    27\n",
      "   585   551   579   415   217   350    20   751   530  1999    11   581\n",
      "   352    25   394    12   560   555   405   296   495    49   515  1659\n",
      "     4   294   187   517   246     5   327    17  1625   368   371   221\n",
      "  1367   259    24  1597   520    16   392     9   540   443   572    13\n",
      "     8   411   900   600     7   159 10218  7544   287    19   214   525\n",
      "   441   557    28   236   436   282   570 17322   335  1360   202  3750\n",
      "   632  1062    10  1024 11530  1796   460   721  1780 12012   650   485\n",
      "   700 17932   316  2005  1800  1399   191   502   278   380   431   257\n",
      "   544   580   153   353   455   288  1653   281   375  1500   386    32\n",
      "  1202  2016  1436  1405   434   671   262   274   571  1288  1055   351\n",
      "   629  6226  1115  1105   341  1223  8404  1968   383   338   445  1920\n",
      "  4400 10522     6  1164  1501   269   428 11635   304   390   348  1703\n",
      "  1910   676   518    31   575  1403   489  5575 19211   960   466   490\n",
      "   283  1000   550  3199   612   740  1312   851   950  4700   319  1600\n",
      "  3454   251   850  8011  2331  2789    36   468   519   589  2461   610\n",
      "  6006  5815  6018  1781  1506  5809 15020  5867  1598   317   506 17410\n",
      "   398  1363   584   322  1054   318  1700   604   324  1151   685   703\n",
      "  1771 15001   332  6045   365   425   702   308   453   680  6010   475\n",
      "   903   640  2000   362   248   651  2799 17011   505   606  1521   601\n",
      "   599  1998   501  1230 17019  8259   748   545  1895   871   909  1595\n",
      "   776  1400 17700 11011   672   407  1199   357  1162 15033  1896   339\n",
      "  6512   454  1300   999 16312   336 20000   678  1021  1870  1401 11620\n",
      " 13636  9710  2009  6062  1275   481   244   399  1016  1221  2402  1362\n",
      "   359   645   907   625  1995  1003  1432  9013   424 15017  2018 11025\n",
      "  1433   801  1701  2792  1502  1239  1390  1160  1783   229  9007   356\n",
      "  1149   754   704  2017  5420 12512   470  7511  1011  1299  1079   998\n",
      "  1100   346  1933   508   529 16311  7529   417  2200  1707  1416  8500\n",
      "  1012   293 10110   574  1631  7518  1250  1004  1799  9012  2007  1548\n",
      "  1241   473     3]\n",
      "\n",
      "model: ['grand' 'golf' 'fabia' '3er' '2_reihe' 'andere' 'c_max' '3_reihe'\n",
      " 'passat' 'navara' 'twingo' 'a_klasse' 'scirocco' '5er' 'arosa' 'civic'\n",
      " 'transporter' 'punto' 'e_klasse' 'one' 'fortwo' 'clio' '1er' 'b_klasse'\n",
      " 'astra' 'a8' 'jetta' 'polo' 'fiesta' 'c_klasse' 'micra' 'vito' 'sprinter'\n",
      " '156' 'escort' 'forester' 'xc_reihe' 'scenic' 'a4' 'a1' 'combo' 'focus'\n",
      " 'tt' 'a6' 'jazz' 'slk' '7er' 'corsa' '80' '147' 'glk' 'meriva' 'z_reihe'\n",
      " 'sorento' 'v40' 'ibiza' 'mustang' 'eos' 'touran' 'getz' 'insignia' 'ka'\n",
      " 'megane' 'a3' 'lupo' 'r19' 'mondeo' 'colt' 'vectra' 'berlingo' 'm_klasse'\n",
      " 'tiguan' 'sharan' '6_reihe' 'c4' 'panda' 'up' 'i_reihe' 'ceed' 'kangoo'\n",
      " '5_reihe' 'yeti' 'octavia' 'zafira' 'mii' 'rx_reihe' '6er' 'fox' 'matiz'\n",
      " 'beetle' 'rio' 'touareg' 'logan' 'caddy' 'omega' 'cuore' 's_max' 'modus'\n",
      " 'a2' 'x_reihe' 'a5' 'galaxy' 'c3' 'viano' 's_klasse' '1_reihe' 'avensis'\n",
      " 'sl' 'roomster' 'q5' 'kaefer' 'santa' 'cooper' 'leon' 'sportage'\n",
      " 'ptcruiser' 'clk' 'primera' '4_reihe' 'espace' 'exeo' 'transit' 'juke'\n",
      " 'carisma' 'accord' 'corolla' 'phaeton' 'boxster' 'cordoba' 'verso'\n",
      " 'swift' 'rav' 'kuga' 'qashqai' '159' 'picanto' 'stilo' 'alhambra'\n",
      " 'laguna' '911' 'm_reihe' 'roadster' 'ypsilon' 'galant' 'justy' 'impreza'\n",
      " '90' 'sirion' 'signum' 'crossfire' 'agila' 'duster' 'v50' 'mx_reihe'\n",
      " '500' 'discovery' 'c_reihe' 'v_klasse' 'yaris' 'c5' 'aygo' 'almera'\n",
      " 'seicento' 'cc' 'bora' 'forfour' '100' 'cl' 'tigra' '300c' 'q3'\n",
      " 'cr_reihe' 'spark' 'x_type' 'ducato' 's_type' 'x_trail' 'toledo' 'altea'\n",
      " 'voyager' 'carnival' 'v70' 'bravo' 'range_rover' 'antara' 'q7' 'c1'\n",
      " 'kadett' 'citigo' 'jimny' 'cx_reihe' 'cayenne' 'wrangler' 'lybra'\n",
      " 'range_rover_sport' 'lancer' 'freelander' 'captiva' 'fusion'\n",
      " 'range_rover_evoque' 'sandero' 'note' 'spider' 'defender' 'cherokee'\n",
      " 'clubman' 'legacy' 'pajero' 'c2' 'niva' 's60' '900' 'nubira' 'vivaro'\n",
      " 'lanos' 'tucson' 'g_klasse' 'auris' 'lodgy' '850' '601' 'superb'\n",
      " 'serie_2' 'calibra' 'charade' 'croma' 'outlander' 'gl' 'doblo' 'musa'\n",
      " 'amarok' 'move' '9000' 'kalos' 'v60' '200' '145' 'b_max' 'delta' 'aveo'\n",
      " 'terios' 'rangerover' 'materia' 'kalina' 'samara' 'elefantino' 'i3'\n",
      " 'kappa' 'serie_3' 'serie_1' 'discovery_sport']\n",
      "\n",
      "kilometer: [125000 150000  90000  40000  30000  70000 100000  60000   5000  20000\n",
      "  80000  50000  10000]\n",
      "\n",
      "monthOfRegistration: [ 8  6  7 10 12 11  3  2  1  4  5  9  0]\n",
      "\n",
      "fuelType: ['diesel' 'benzin' 'lpg' 'andere' 'hybrid' 'cng' 'elektro']\n",
      "\n",
      "brand: ['jeep' 'volkswagen' 'skoda' 'bmw' 'peugeot' 'ford' 'mazda' 'nissan'\n",
      " 'renault' 'mercedes_benz' 'seat' 'honda' 'fiat' 'mini' 'smart' 'opel'\n",
      " 'audi' 'alfa_romeo' 'subaru' 'volvo' 'mitsubishi' 'hyundai' 'kia'\n",
      " 'suzuki' 'lancia' 'porsche' 'citroen' 'toyota' 'chevrolet' 'dacia'\n",
      " 'daihatsu' 'chrysler' 'jaguar' 'rover' 'saab' 'daewoo' 'land_rover'\n",
      " 'trabant' 'lada']\n",
      "\n",
      "dateCreated: ['2016-03-14 00:00:00' '2016-03-17 00:00:00' '2016-03-31 00:00:00'\n",
      " '2016-04-04 00:00:00' '2016-04-01 00:00:00' '2016-03-21 00:00:00'\n",
      " '2016-03-26 00:00:00' '2016-04-07 00:00:00' '2016-03-15 00:00:00'\n",
      " '2016-03-20 00:00:00' '2016-03-23 00:00:00' '2016-03-27 00:00:00'\n",
      " '2016-03-12 00:00:00' '2016-03-13 00:00:00' '2016-03-18 00:00:00'\n",
      " '2016-03-07 00:00:00' '2016-03-09 00:00:00' '2016-03-08 00:00:00'\n",
      " '2016-04-03 00:00:00' '2016-03-25 00:00:00' '2016-03-29 00:00:00'\n",
      " '2016-03-30 00:00:00' '2016-03-22 00:00:00' '2016-02-09 00:00:00'\n",
      " '2016-03-05 00:00:00' '2016-03-11 00:00:00' '2016-03-10 00:00:00'\n",
      " '2016-03-28 00:00:00' '2016-04-02 00:00:00' '2016-03-16 00:00:00'\n",
      " '2016-03-24 00:00:00' '2016-04-05 00:00:00' '2016-03-19 00:00:00'\n",
      " '2016-03-06 00:00:00' '2016-03-03 00:00:00' '2016-03-01 00:00:00'\n",
      " '2016-03-04 00:00:00' '2016-04-06 00:00:00' '2016-02-15 00:00:00'\n",
      " '2016-01-14 00:00:00' '2016-02-24 00:00:00' '2016-02-27 00:00:00'\n",
      " '2015-03-20 00:00:00' '2016-02-28 00:00:00' '2016-02-20 00:00:00'\n",
      " '2015-06-11 00:00:00' '2016-02-29 00:00:00' '2016-02-10 00:00:00'\n",
      " '2016-02-23 00:00:00' '2016-02-21 00:00:00' '2016-01-19 00:00:00'\n",
      " '2015-11-02 00:00:00' '2016-02-19 00:00:00' '2016-02-26 00:00:00'\n",
      " '2016-02-11 00:00:00' '2016-01-10 00:00:00' '2016-02-06 00:00:00'\n",
      " '2016-02-18 00:00:00' '2016-03-02 00:00:00' '2015-12-06 00:00:00'\n",
      " '2016-01-24 00:00:00' '2016-01-30 00:00:00' '2016-01-28 00:00:00'\n",
      " '2016-02-02 00:00:00' '2016-02-12 00:00:00' '2016-02-13 00:00:00'\n",
      " '2016-02-05 00:00:00' '2016-02-22 00:00:00' '2015-11-17 00:00:00'\n",
      " '2016-02-07 00:00:00' '2016-02-25 00:00:00' '2016-02-14 00:00:00'\n",
      " '2016-01-27 00:00:00' '2016-01-02 00:00:00' '2015-09-04 00:00:00'\n",
      " '2015-11-12 00:00:00' '2015-12-27 00:00:00' '2016-02-17 00:00:00'\n",
      " '2015-11-24 00:00:00' '2016-01-20 00:00:00' '2016-02-03 00:00:00'\n",
      " '2015-12-05 00:00:00' '2015-08-07 00:00:00' '2016-02-16 00:00:00'\n",
      " '2015-11-13 00:00:00' '2016-02-08 00:00:00' '2016-01-29 00:00:00'\n",
      " '2016-01-07 00:00:00' '2016-01-31 00:00:00' '2016-01-18 00:00:00'\n",
      " '2016-01-08 00:00:00' '2016-01-13 00:00:00' '2016-01-17 00:00:00'\n",
      " '2016-01-15 00:00:00' '2015-11-08 00:00:00' '2016-01-26 00:00:00'\n",
      " '2016-02-04 00:00:00' '2015-10-14 00:00:00' '2016-01-25 00:00:00'\n",
      " '2015-08-10 00:00:00' '2015-12-28 00:00:00' '2015-12-30 00:00:00'\n",
      " '2016-01-23 00:00:00' '2016-02-01 00:00:00' '2015-12-17 00:00:00'\n",
      " '2015-11-10 00:00:00' '2015-11-23 00:00:00' '2016-01-06 00:00:00'\n",
      " '2015-09-09 00:00:00']\n",
      "\n",
      "nrOfPictures: [0]\n",
      "\n",
      "postalCode: [90480 91074 60437 ... 67159 24363 95691]\n",
      "\n"
     ]
    },
    {
     "name": "stdout",
     "output_type": "stream",
     "text": [
      "lastSeen: ['2016-04-05 12:47:46' '2016-03-17 17:40:17' '2016-04-06 10:17:21' ...\n",
      " '2016-04-02 18:16:20' '2016-03-19 20:44:43' '2016-03-29 10:17:23']\n",
      "\n"
     ]
    }
   ],
   "source": [
    "for i in dd:\n",
    "    print(f\"{i}: {dd[i].unique()}\")\n",
    "    print()"
   ]
  },
  {
   "cell_type": "markdown",
   "id": "0b8ead5f",
   "metadata": {},
   "source": [
    "#### Type Casting"
   ]
  },
  {
   "cell_type": "code",
   "execution_count": 13,
   "id": "be379f62",
   "metadata": {},
   "outputs": [],
   "source": [
    "dd['dateCrawled'] = pd.to_datetime(dd[\"dateCrawled\"]).dt.date       \n",
    "dd['dateCreated'] = pd.to_datetime(dd[\"dateCreated\"]).dt.date\n",
    "dd['lastSeen'] = pd.to_datetime(dd[\"lastSeen\"]).dt.date"
   ]
  },
  {
   "cell_type": "code",
   "execution_count": 14,
   "id": "6fa7a7fa",
   "metadata": {},
   "outputs": [],
   "source": [
    "dd['dateCrawled'] = dd['dateCrawled'].astype('datetime64')       \n",
    "dd['dateCreated'] = dd['dateCreated'].astype('datetime64')\n",
    "dd['lastSeen'] = dd['lastSeen'].astype('datetime64')\n",
    "dd[\"postalCode\"] = dd[\"postalCode\"].astype('object')"
   ]
  },
  {
   "cell_type": "markdown",
   "id": "e1c7771b",
   "metadata": {},
   "source": [
    "#### Outliers and Structural errors"
   ]
  },
  {
   "cell_type": "code",
   "execution_count": 15,
   "id": "6f33db1a",
   "metadata": {},
   "outputs": [],
   "source": [
    "yr = dd[(dd['yearOfRegistration'] < 1900) | (dd['yearOfRegistration'] >2023)]"
   ]
  },
  {
   "cell_type": "code",
   "execution_count": 16,
   "id": "e9c69354",
   "metadata": {},
   "outputs": [],
   "source": [
    "dd.drop(yr.index, inplace = True)"
   ]
  },
  {
   "cell_type": "code",
   "execution_count": 17,
   "id": "2b6fbf5b",
   "metadata": {},
   "outputs": [],
   "source": [
    "dd['powerPS'] = np.where((dd['powerPS'] < 1) | (dd['powerPS'] >2400), dd['powerPS'].median(), dd['powerPS'] )"
   ]
  },
  {
   "cell_type": "code",
   "execution_count": 18,
   "id": "7d52a3f4",
   "metadata": {},
   "outputs": [],
   "source": [
    "dd['monthOfRegistration'] = np.where((dd['monthOfRegistration'] == 0), dd['monthOfRegistration'].mode()[0], dd['monthOfRegistration'] )"
   ]
  },
  {
   "cell_type": "code",
   "execution_count": 19,
   "id": "9f12a695",
   "metadata": {},
   "outputs": [],
   "source": [
    "dd.drop(dd[(dd['price']==0) | (dd['price']>4000000) | (dd['price']< 500)].index, inplace = True)"
   ]
  },
  {
   "cell_type": "code",
   "execution_count": 20,
   "id": "31296fbd",
   "metadata": {},
   "outputs": [],
   "source": [
    "dd.to_csv(\"Used_Car_Analysis\")"
   ]
  },
  {
   "cell_type": "code",
   "execution_count": null,
   "id": "4d9d3487",
   "metadata": {},
   "outputs": [],
   "source": []
  },
  {
   "cell_type": "code",
   "execution_count": null,
   "id": "4b9860aa",
   "metadata": {},
   "outputs": [],
   "source": []
  },
  {
   "cell_type": "markdown",
   "id": "9e5177f1",
   "metadata": {},
   "source": [
    "## 2)Can you tell me the Distribution of Vehicles based on Year of Registration with the help of a plot."
   ]
  },
  {
   "cell_type": "code",
   "execution_count": 21,
   "id": "6c665bd6",
   "metadata": {},
   "outputs": [
    {
     "data": {
      "text/plain": [
       "<Axes: ylabel='Density'>"
      ]
     },
     "execution_count": 21,
     "metadata": {},
     "output_type": "execute_result"
    },
    {
     "data": {
      "image/png": "[encoded data removed]",
      "text/plain": [
       "<Figure size 1500x500 with 1 Axes>"
      ]
     },
     "metadata": {},
     "output_type": "display_data"
    }
   ],
   "source": [
    "dd['yearOfRegistration'].plot(kind = 'kde', figsize = (15,5))"
   ]
  },
  {
   "cell_type": "markdown",
   "id": "d9608d33",
   "metadata": {},
   "source": [
    "**The Distribution is left skewed which means most of points are on the right side of the plot. Hence Maximum cars are registered between 2000 and 2020.**"
   ]
  },
  {
   "cell_type": "markdown",
   "id": "8fc1c644",
   "metadata": {},
   "source": [
    "## 3) Create a plot based on the Variation of the price range by the vehicle type\n"
   ]
  },
  {
   "cell_type": "code",
   "execution_count": 23,
   "id": "f9a7d606",
   "metadata": {},
   "outputs": [
    {
     "data": {
      "text/plain": [
       "<Axes: xlabel='vehicleType'>"
      ]
     },
     "execution_count": 23,
     "metadata": {},
     "output_type": "execute_result"
    },
    {
     "data": {
      "image/png": "[encoded data removed]",
      "text/plain": [
       "<Figure size 640x480 with 1 Axes>"
      ]
     },
     "metadata": {},
     "output_type": "display_data"
    }
   ],
   "source": [
    "dd.groupby('vehicleType')['price'].median().plot(kind = 'bar')"
   ]
  },
  {
   "cell_type": "markdown",
   "id": "7a2f168d",
   "metadata": {},
   "source": [
    "## 4) Find out Total count of vehicles by type available on ebay for sale.As well as create a visualization for the client"
   ]
  },
  {
   "cell_type": "code",
   "execution_count": 24,
   "id": "1335ce25",
   "metadata": {},
   "outputs": [
    {
     "data": {
      "text/plain": [
       "limousine     82775\n",
       "kleinwagen    61482\n",
       "kombi         57952\n",
       "bus           27072\n",
       "cabrio        20164\n",
       "coupe         15840\n",
       "suv           13080\n",
       "andere         2192\n",
       "Name: vehicleType, dtype: int64"
      ]
     },
     "execution_count": 24,
     "metadata": {},
     "output_type": "execute_result"
    }
   ],
   "source": [
    "dd['vehicleType'].value_counts()"
   ]
  },
  {
   "cell_type": "code",
   "execution_count": 25,
   "id": "22c63cf1",
   "metadata": {},
   "outputs": [
    {
     "data": {
      "text/plain": [
       "<Axes: xlabel='Type of Vehicle ', ylabel='count of vehicles'>"
      ]
     },
     "execution_count": 25,
     "metadata": {},
     "output_type": "execute_result"
    },
    {
     "data": {
      "image/png": "[encoded data removed]",
      "text/plain": [
       "<Figure size 640x480 with 1 Axes>"
      ]
     },
     "metadata": {},
     "output_type": "display_data"
    }
   ],
   "source": [
    "dd['vehicleType'].value_counts().plot(kind = 'bar', xlabel = 'Type of Vehicle ', ylabel = 'count of vehicles')"
   ]
  },
  {
   "cell_type": "markdown",
   "id": "be375140",
   "metadata": {},
   "source": [
    "## 5) Is there any relationship between dollar_price and kilometer? (Explain with appropriate analysis)"
   ]
  },
  {
   "cell_type": "code",
   "execution_count": 26,
   "id": "14620bf1",
   "metadata": {},
   "outputs": [
    {
     "data": {
      "text/plain": [
       "<Axes: xlabel='price', ylabel='kilometer'>"
      ]
     },
     "execution_count": 26,
     "metadata": {},
     "output_type": "execute_result"
    },
    {
     "data": {
      "image/png": "[encoded data removed]",
      "text/plain": [
       "<Figure size 640x480 with 1 Axes>"
      ]
     },
     "metadata": {},
     "output_type": "display_data"
    }
   ],
   "source": [
    "sns.scatterplot(dd, x = 'price' , y = 'kilometer')"
   ]
  },
  {
   "cell_type": "markdown",
   "id": "4dceb8d2",
   "metadata": {},
   "source": [
    "There is no Relation between \"Price\" and \"Kilometres\" Driven."
   ]
  },
  {
   "cell_type": "code",
   "execution_count": null,
   "id": "60efee5c",
   "metadata": {},
   "outputs": [],
   "source": []
  }
 ],
 "metadata": {
  "kernelspec": {
   "display_name": "Python 3 (ipykernel)",
   "language": "python",
   "name": "python3"
  },
  "language_info": {
   "codemirror_mode": {
    "name": "ipython",
    "version": 3
   },
   "file_extension": ".py",
   "mimetype": "text/x-python",
   "name": "python",
   "nbconvert_exporter": "python",
   "pygments_lexer": "ipython3",
   "version": "3.11.4"
  }
 },
 "nbformat": 4,
 "nbformat_minor": 5
}
